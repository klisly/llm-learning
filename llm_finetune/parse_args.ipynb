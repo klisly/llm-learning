{
 "cells": [
  {
   "cell_type": "code",
   "execution_count": 1,
   "id": "cec76318-9fba-4a3b-a8ee-f745af10e8d3",
   "metadata": {},
   "outputs": [],
   "source": [
    "import re\n",
    "\n",
    "# 给定的参数字符串\n",
    "params_str = \"\"\"\n",
    "--stage sft \\\n",
    "    --do_train True \\\n",
    "    --model_name_or_path Qwen/Qwen1.5-0.5B \\\n",
    "    --finetuning_type lora \\\n",
    "    --template default \\\n",
    "    --dataset_dir data \\\n",
    "    --dataset chat_zh_v2 \\\n",
    "    --cutoff_len 1024 \\\n",
    "    --learning_rate 5e-05 \\\n",
    "    --num_train_epochs 3.0 \\\n",
    "    --max_samples 100000 \\\n",
    "    --per_device_train_batch_size 2 \\\n",
    "    --gradient_accumulation_steps 8 \\\n",
    "    --lr_scheduler_type cosine \\\n",
    "    --max_grad_norm 1.0 \\\n",
    "    --logging_steps 5 \\\n",
    "    --save_steps 100 \\\n",
    "    --warmup_steps 0 \\\n",
    "    --optim adamw_torch \\\n",
    "    --output_dir saves/Qwen1.5-0.5B/lora/train_2024-03-24-02-05-33 \\\n",
    "    --fp16 True \\\n",
    "    --lora_rank 8 \\\n",
    "    --lora_alpha 16 \\\n",
    "    --lora_dropout 0.1 \\\n",
    "    --lora_target q_proj,v_proj \\\n",
    "    --plot_loss True \n",
    "\"\"\"\n"
   ]
  },
  {
   "cell_type": "code",
   "execution_count": 2,
   "id": "77f3e27f-8302-47f5-89ed-5c1692f229ef",
   "metadata": {},
   "outputs": [],
   "source": [
    "def parse_numeric(s):\n",
    "    try:\n",
    "        return float(s)\n",
    "    except ValueError:\n",
    "        return s\n",
    "params = {}\n",
    "for item in params_str.strip().split('--'):\n",
    "    item = item.strip().split(' ')\n",
    "    if len(item) <= 1:\n",
    "        continue\n",
    "    params[item[0]] = parse_numeric(item[1])"
   ]
  },
  {
   "cell_type": "code",
   "execution_count": 3,
   "id": "0bd6047c-6db3-466a-a1de-edb010bc7faa",
   "metadata": {},
   "outputs": [
    {
     "data": {
      "text/plain": [
       "{'stage': 'sft',\n",
       " 'do_train': 'True',\n",
       " 'model_name_or_path': 'Qwen/Qwen1.5-0.5B',\n",
       " 'finetuning_type': 'lora',\n",
       " 'template': 'default',\n",
       " 'dataset_dir': 'data',\n",
       " 'dataset': 'chat_zh_v2',\n",
       " 'cutoff_len': 1024.0,\n",
       " 'learning_rate': 5e-05,\n",
       " 'num_train_epochs': 3.0,\n",
       " 'max_samples': 100000.0,\n",
       " 'per_device_train_batch_size': 2.0,\n",
       " 'gradient_accumulation_steps': 8.0,\n",
       " 'lr_scheduler_type': 'cosine',\n",
       " 'max_grad_norm': 1.0,\n",
       " 'logging_steps': 5.0,\n",
       " 'save_steps': 100.0,\n",
       " 'warmup_steps': 0.0,\n",
       " 'optim': 'adamw_torch',\n",
       " 'output_dir': 'saves/Qwen1.5-0.5B/lora/train_2024-03-24-02-05-33',\n",
       " 'fp16': 'True',\n",
       " 'lora_rank': 8.0,\n",
       " 'lora_alpha': 16.0,\n",
       " 'lora_dropout': 0.1,\n",
       " 'lora_target': 'q_proj,v_proj',\n",
       " 'plot_loss': 'True'}"
      ]
     },
     "execution_count": 3,
     "metadata": {},
     "output_type": "execute_result"
    }
   ],
   "source": [
    "params"
   ]
  },
  {
   "cell_type": "code",
   "execution_count": null,
   "id": "866f5f04-7b6f-40ef-a224-c9e8e4de2c45",
   "metadata": {},
   "outputs": [],
   "source": []
  }
 ],
 "metadata": {
  "kernelspec": {
   "display_name": "lmf",
   "language": "python",
   "name": "lmf"
  },
  "language_info": {
   "codemirror_mode": {
    "name": "ipython",
    "version": 3
   },
   "file_extension": ".py",
   "mimetype": "text/x-python",
   "name": "python",
   "nbconvert_exporter": "python",
   "pygments_lexer": "ipython3",
   "version": "3.10.13"
  }
 },
 "nbformat": 4,
 "nbformat_minor": 5
}
