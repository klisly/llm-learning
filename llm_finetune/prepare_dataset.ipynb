{
 "cells": [
  {
   "cell_type": "code",
   "execution_count": 55,
   "id": "bc974cee-6624-4c90-b2dc-332f39391906",
   "metadata": {},
   "outputs": [],
   "source": [
    "import json\n",
    "import argparse\n",
    "import pandas as pd\n",
    "from tqdm import tqdm"
   ]
  },
  {
   "cell_type": "code",
   "execution_count": 4,
   "id": "89e26b02-fe76-4eee-a0e4-690b9b650443",
   "metadata": {},
   "outputs": [],
   "source": [
    "csv_path = '/home/nakai/project/aigc/llm/dataset/聊天内容/40v40聊天记录.csv'"
   ]
  },
  {
   "cell_type": "code",
   "execution_count": 74,
   "id": "b8af8556-61d2-4ebc-8d6b-d4c02eee17ce",
   "metadata": {},
   "outputs": [
    {
     "name": "stdout",
     "output_type": "stream",
     "text": [
      "10361325 /home/nakai/project/aigc/llm/dataset/聊天内容/40v40聊天记录.csv\n"
     ]
    }
   ],
   "source": [
    "!wc -l /home/nakai/project/aigc/llm/dataset/聊天内容/40v40聊天记录.csv"
   ]
  },
  {
   "cell_type": "code",
   "execution_count": 53,
   "id": "d3de1599-d122-406d-b149-a59869123e19",
   "metadata": {},
   "outputs": [
    {
     "name": "stderr",
     "output_type": "stream",
     "text": [
      "/tmp/ipykernel_588342/1409326339.py:1: DtypeWarning: Columns (0,1,2) have mixed types. Specify dtype option on import or set low_memory=False.\n",
      "  df = pd.read_csv(csv_path, nrows=3000000)\n"
     ]
    }
   ],
   "source": [
    "df = pd.read_csv(csv_path, nrows=3000000)"
   ]
  },
  {
   "cell_type": "code",
   "execution_count": 54,
   "id": "842da514-fa96-496d-a13f-8042228d2596",
   "metadata": {},
   "outputs": [
    {
     "name": "stderr",
     "output_type": "stream",
     "text": [
      "3000000it [01:52, 26778.20it/s]\n"
     ]
    }
   ],
   "source": [
    "conversations = {}\n",
    "# 将消息组合成长文本\n",
    "for _, row in tqdm(df.iterrows()):\n",
    "    from_uid = row['src_id']\n",
    "    to_uid = row['dest_id']\n",
    "    msg = str(row['content']).strip()\n",
    "    msg = str(from_uid) + '###' + str(row['content']).strip()\n",
    "\n",
    "    # 将from_uid和to_uid按照字母顺序组合成一个元组，确保对话参与者的组合是唯一的\n",
    "    participants = tuple(sorted([from_uid, to_uid]))\n",
    "\n",
    "    if participants not in conversations:\n",
    "        conversations[participants] = []\n",
    "    if msg.find(\"{\") >= 0:\n",
    "        continue\n",
    "    if len(conversations[participants]) > 0:\n",
    "        last_msg = conversations[participants][-1]\n",
    "        if last_msg.split('###')[0] == msg.split('###')[0]:\n",
    "            conversations[participants][-1] = last_msg +\",\"+msg.split('###')[-1]\n",
    "        else:\n",
    "            conversations[participants].append(msg)\n",
    "    else:     \n",
    "        conversations[participants].append(msg)"
   ]
  },
  {
   "cell_type": "code",
   "execution_count": 68,
   "id": "bb3e8de9-1aeb-426b-9f25-f5ad488aa73a",
   "metadata": {},
   "outputs": [],
   "source": [
    "# 构造单轮会话数据集，无提示词\n",
    "'''\n",
    " {\n",
    "    \"instruction\": \"你还能做什么?\",\n",
    "    \"input\": \"\",\n",
    "    \"output\": \"我可以替你写代码，作文等\",\n",
    "    \"history\": []\n",
    "  },\n",
    "'''\n",
    "cnt = 0\n",
    "with open('/home/nakai/project/aigc/llm/LLaMA-Factory/data/chat_dataset/chat.json', mode='w') as tf:\n",
    "    tf.write('[\\n')\n",
    "    corpus = []\n",
    "    for item in conversations.values():\n",
    "        if len(item) <= 1:\n",
    "            continue\n",
    "        for idx in range(1, len(item)):\n",
    "            cnt += 1\n",
    "            sep = ''\n",
    "            if cnt > 1:\n",
    "                sep = ','\n",
    "            ip = item[idx-1].split('###')[-1].replace('\\n', '').replace('\"', '').replace('/', '').replace('\\\\', '').replace('^M', '')\n",
    "            ot = item[idx].split('###')[-1].replace('\\n', '').replace('\"', '').replace('/', '').replace('\\\\', '').replace('^M', '')\n",
    "            tf.write(f\"\"\"{sep}{{\n",
    "    \"instruction\": \"\",\n",
    "    \"input\": \"{ip}\",\n",
    "    \"output\": \"{ot}\",\n",
    "    \"history\": []\n",
    "  }}\n",
    "\"\"\")\n",
    "    tf.write(']')\n",
    "    "
   ]
  },
  {
   "cell_type": "code",
   "execution_count": null,
   "id": "6f2ab734-8a39-4ded-b070-1381d4923f41",
   "metadata": {},
   "outputs": [],
   "source": []
  }
 ],
 "metadata": {
  "kernelspec": {
   "display_name": "Python 3 (ipykernel)",
   "language": "python",
   "name": "python3"
  },
  "language_info": {
   "codemirror_mode": {
    "name": "ipython",
    "version": 3
   },
   "file_extension": ".py",
   "mimetype": "text/x-python",
   "name": "python",
   "nbconvert_exporter": "python",
   "pygments_lexer": "ipython3",
   "version": "3.10.7"
  }
 },
 "nbformat": 4,
 "nbformat_minor": 5
}
