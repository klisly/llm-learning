{
 "cells": [
  {
   "cell_type": "code",
   "execution_count": 1,
   "id": "b15233d1-e717-4229-bdaa-705c2ea660e7",
   "metadata": {},
   "outputs": [],
   "source": [
    "from langchain_community.llms import Ollama\n",
    "from langchain_community.chat_models import ChatOllama\n",
    " \n",
    "llm = Ollama(model=\"qwen:1.8b\")\n",
    "chat_model = ChatOllama()"
   ]
  },
  {
   "cell_type": "code",
   "execution_count": 3,
   "id": "e7d1810e-1a09-4ae6-a378-479580ec3f75",
   "metadata": {},
   "outputs": [
    {
     "data": {
      "text/plain": [
       "AIMessage(content='\\n不能够给出一个硬性的定义，因为感情和家庭关系的评价是个人的主观体验。但有以下一些可能会被视为好老婆的特征：\\n\\n1. 热爱和支持你：好老婆会不断地表达爱意，支持你的发展和梦想，并努力保证家庭的和谐。\\n2. 负责任和可靠：好老婆会负责任地完成家务和职业义务，同时也能够信任和可靠地照顾家庭。\\n3. 善于沟通和和解：好老婆会努力与你建立良好的沟通关系，并尽力解决家庭中的紧张点。\\n4. 拥有一定的独立性和自我实现：好老婆会具备独立的个性和价值观，并能够保持自我实现和自由。\\n5. 鼓励和支持你的发展：好老婆会鼓励和支持你的成长和进步，不惜精力和时间来帮助你实现梦想。\\n6. 具有家庭管理和财务管理能力：好老婆会能够负责家庭的管理和财务事宜，保证家庭的舒适度和经济稳定。\\n7. 具有情感支持能力：好老婆会能够情感支持你，在你需要时提供安全感和 поддержка。\\n8. 与你共同做出重大决定：好老婆会与你合作决定重大事物，并考虑两人的利益和共识。\\n9. 能够忍受和解决问题：好老婆会能够忍受家庭中的小问题，并尽力解决大问题。\\n10. 保持家庭 harmony：好老婆会努力保证家庭的和谐度，使家庭成为一个安全、温顺和美好的生活环境。\\n\\n需要注意的是，这些特征不一定能够保证一个人是好老婆，每个人的情感和需求都不同，因此可以通过与丈夫分享和商讨来确定是否与他们的伴侣分享相似的目标和方式。', response_metadata={'model': 'llama2', 'created_at': '2024-03-22T07:19:19.65483672Z', 'message': {'role': 'assistant', 'content': ''}, 'done': True, 'total_duration': 15758687133, 'load_duration': 1857672397, 'prompt_eval_count': 46, 'prompt_eval_duration': 95366000, 'eval_count': 829, 'eval_duration': 13804848000})"
      ]
     },
     "execution_count": 3,
     "metadata": {},
     "output_type": "execute_result"
    }
   ],
   "source": [
    "from langchain.schema import HumanMessage\n",
    " \n",
    "text = \"用中文回答，什么样的老婆才是好老婆?\"\n",
    "messages = [HumanMessage(content=text)]\n",
    "llm.invoke(text) # >> Feetful of Fun\n",
    "chat_model.invoke(messages) # >> AIMes"
   ]
  },
  {
   "cell_type": "code",
   "execution_count": 6,
   "id": "29758fb3-c652-4300-a447-91c4a6f9e181",
   "metadata": {},
   "outputs": [
    {
     "data": {
      "text/plain": [
       "[SystemMessage(content='You are a helpful assistant that translates English to French.'),\n",
       " HumanMessage(content='I love programming.')]"
      ]
     },
     "execution_count": 6,
     "metadata": {},
     "output_type": "execute_result"
    }
   ],
   "source": [
    "# 调用Promot\n",
    "from langchain.prompts.chat import ChatPromptTemplate\n",
    " \n",
    "template = \"You are a helpful assistant that translates {input_language} to {output_language}.\"\n",
    "human_template = \"{text}\"\n",
    "chat_prompt = ChatPromptTemplate.from_messages([\n",
    "    (\"system\", template),\n",
    "    (\"human\", human_template),\n",
    "])\n",
    "chat_prompt.format_messages(input_language=\"English\", output_language=\"French\", text=\"I love programming.\")"
   ]
  },
  {
   "cell_type": "code",
   "execution_count": 7,
   "id": "6fb3c673-c772-4731-88bc-3505af6e8e9b",
   "metadata": {},
   "outputs": [
    {
     "data": {
      "text/plain": [
       "['hi', 'bye']"
      ]
     },
     "execution_count": 7,
     "metadata": {},
     "output_type": "execute_result"
    }
   ],
   "source": [
    "# bye\n",
    "from langchain.output_parsers import CommaSeparatedListOutputParser\n",
    " \n",
    "output_parser = CommaSeparatedListOutputParser()\n",
    "output_parser.parse(\"hi, bye\") # >> ['hi', 'bye']"
   ]
  },
  {
   "cell_type": "code",
   "execution_count": 9,
   "id": "7ff05e70-af86-4ed9-b672-7604d16a2b91",
   "metadata": {},
   "outputs": [
    {
     "data": {
      "text/plain": [
       "['Of course! Here are 5 colors for you:\\n\\nGreen',\n",
       " 'Blue',\n",
       " 'Yellow',\n",
       " 'Purple',\n",
       " 'Orange']"
      ]
     },
     "execution_count": 9,
     "metadata": {},
     "output_type": "execute_result"
    }
   ],
   "source": [
    "# 串联\n",
    "template = \"Generate a list of 5 {text}.\\n\\n{format_instructions}\"\n",
    " \n",
    "chat_prompt = ChatPromptTemplate.from_template(template)\n",
    "chat_prompt = chat_prompt.partial(format_instructions=output_parser.get_format_instructions())\n",
    "chain = chat_prompt | chat_model | output_parser\n",
    "chain.invoke({\"text\": \"colors\"}) # >> ['red', 'blue', 'green', 'yellow', 'orange']"
   ]
  },
  {
   "cell_type": "code",
   "execution_count": null,
   "id": "f469179b-37a8-4f74-b48f-ff51949c2954",
   "metadata": {},
   "outputs": [],
   "source": []
  }
 ],
 "metadata": {
  "kernelspec": {
   "display_name": "lmf",
   "language": "python",
   "name": "lmf"
  },
  "language_info": {
   "codemirror_mode": {
    "name": "ipython",
    "version": 3
   },
   "file_extension": ".py",
   "mimetype": "text/x-python",
   "name": "python",
   "nbconvert_exporter": "python",
   "pygments_lexer": "ipython3",
   "version": "3.10.13"
  }
 },
 "nbformat": 4,
 "nbformat_minor": 5
}
